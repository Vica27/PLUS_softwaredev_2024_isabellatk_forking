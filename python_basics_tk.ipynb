{
 "cells": [
  {
   "cell_type": "code",
   "execution_count": null,
   "id": "172cad02",
   "metadata": {},
   "outputs": [],
   "source": [
    "# test ----- this is a single line comment ------"
   ]
  },
  {
   "cell_type": "code",
   "execution_count": null,
   "id": "44770295",
   "metadata": {},
   "outputs": [],
   "source": [
    "'''this is\n",
    "a mullti line\n",
    "text '''"
   ]
  },
  {
   "cell_type": "code",
   "execution_count": 3,
   "id": "d0e249f8",
   "metadata": {},
   "outputs": [
    {
     "data": {
      "text/plain": [
       "' this is also working '"
      ]
     },
     "execution_count": 3,
     "metadata": {},
     "output_type": "execute_result"
    }
   ],
   "source": [
    "\"\"\" this is also working \"\"\""
   ]
  },
  {
   "cell_type": "code",
   "execution_count": 4,
   "id": "d6ff2c09",
   "metadata": {},
   "outputs": [],
   "source": [
    "variable = 24"
   ]
  },
  {
   "cell_type": "code",
   "execution_count": 5,
   "id": "3ab89737",
   "metadata": {},
   "outputs": [],
   "source": [
    "variable_2 = \"This is text!\""
   ]
  },
  {
   "cell_type": "code",
   "execution_count": 6,
   "id": "19cebd33",
   "metadata": {},
   "outputs": [],
   "source": [
    "variable_3 = 20.5"
   ]
  },
  {
   "cell_type": "code",
   "execution_count": 7,
   "id": "0e8ae174",
   "metadata": {},
   "outputs": [
    {
     "data": {
      "text/plain": [
       "24"
      ]
     },
     "execution_count": 7,
     "metadata": {},
     "output_type": "execute_result"
    }
   ],
   "source": [
    "variable"
   ]
  },
  {
   "cell_type": "code",
   "execution_count": 8,
   "id": "69a1e843",
   "metadata": {},
   "outputs": [
    {
     "data": {
      "text/plain": [
       "'This is text!'"
      ]
     },
     "execution_count": 8,
     "metadata": {},
     "output_type": "execute_result"
    }
   ],
   "source": [
    "variable_2"
   ]
  },
  {
   "cell_type": "code",
   "execution_count": 9,
   "id": "7d709db2",
   "metadata": {},
   "outputs": [
    {
     "data": {
      "text/plain": [
       "20.5"
      ]
     },
     "execution_count": 9,
     "metadata": {},
     "output_type": "execute_result"
    }
   ],
   "source": [
    "variable_3"
   ]
  },
  {
   "cell_type": "code",
   "execution_count": 10,
   "id": "9f22ba89",
   "metadata": {},
   "outputs": [],
   "source": [
    "variable_4 = False "
   ]
  },
  {
   "cell_type": "code",
   "execution_count": 11,
   "id": "75ca4801",
   "metadata": {},
   "outputs": [],
   "source": [
    "variable_5 = None"
   ]
  },
  {
   "cell_type": "code",
   "execution_count": 12,
   "id": "306e6f44",
   "metadata": {},
   "outputs": [
    {
     "data": {
      "text/plain": [
       "NoneType"
      ]
     },
     "execution_count": 12,
     "metadata": {},
     "output_type": "execute_result"
    }
   ],
   "source": [
    "type(variable_5)"
   ]
  },
  {
   "cell_type": "code",
   "execution_count": 13,
   "id": "54d89565",
   "metadata": {},
   "outputs": [
    {
     "data": {
      "text/plain": [
       "float"
      ]
     },
     "execution_count": 13,
     "metadata": {},
     "output_type": "execute_result"
    }
   ],
   "source": [
    "type(variable_3)"
   ]
  },
  {
   "cell_type": "code",
   "execution_count": 14,
   "id": "7c16d8c1",
   "metadata": {},
   "outputs": [
    {
     "data": {
      "text/plain": [
       "bool"
      ]
     },
     "execution_count": 14,
     "metadata": {},
     "output_type": "execute_result"
    }
   ],
   "source": [
    "type(variable_4)"
   ]
  },
  {
   "cell_type": "code",
   "execution_count": 15,
   "id": "ff1e9b8a",
   "metadata": {},
   "outputs": [
    {
     "data": {
      "text/plain": [
       "str"
      ]
     },
     "execution_count": 15,
     "metadata": {},
     "output_type": "execute_result"
    }
   ],
   "source": [
    "type(variable_2)"
   ]
  },
  {
   "cell_type": "code",
   "execution_count": 16,
   "id": "83d67865",
   "metadata": {},
   "outputs": [],
   "source": [
    "import sys"
   ]
  },
  {
   "cell_type": "code",
   "execution_count": 17,
   "id": "29bc19fe",
   "metadata": {},
   "outputs": [
    {
     "data": {
      "text/plain": [
       "module"
      ]
     },
     "execution_count": 17,
     "metadata": {},
     "output_type": "execute_result"
    }
   ],
   "source": [
    "type(sys)"
   ]
  },
  {
   "cell_type": "code",
   "execution_count": 18,
   "id": "7bc593b6",
   "metadata": {},
   "outputs": [],
   "source": [
    "long_string = \"this is a \""
   ]
  },
  {
   "cell_type": "code",
   "execution_count": 19,
   "id": "fac0aa56",
   "metadata": {},
   "outputs": [],
   "source": [
    "long_string = \"\"\"this is a very long string that is long\n",
    "string that is very\n",
    "very long\"\"\"\n"
   ]
  },
  {
   "cell_type": "code",
   "execution_count": 20,
   "id": "18c43508",
   "metadata": {},
   "outputs": [
    {
     "name": "stdout",
     "output_type": "stream",
     "text": [
      "4.6\n"
     ]
    }
   ],
   "source": [
    "y = 4.6\n",
    "type(y)\n",
    "print(y)"
   ]
  },
  {
   "cell_type": "code",
   "execution_count": 21,
   "id": "bd131feb",
   "metadata": {},
   "outputs": [
    {
     "data": {
      "text/plain": [
       "4.6"
      ]
     },
     "execution_count": 21,
     "metadata": {},
     "output_type": "execute_result"
    }
   ],
   "source": [
    "y"
   ]
  },
  {
   "cell_type": "code",
   "execution_count": 22,
   "id": "71b150c7",
   "metadata": {},
   "outputs": [
    {
     "data": {
      "text/plain": [
       "5"
      ]
     },
     "execution_count": 22,
     "metadata": {},
     "output_type": "execute_result"
    }
   ],
   "source": [
    "round(y)"
   ]
  },
  {
   "cell_type": "code",
   "execution_count": 23,
   "id": "ab08871a",
   "metadata": {},
   "outputs": [],
   "source": [
    "this_is_a_longer_float = 45.12345678"
   ]
  },
  {
   "cell_type": "code",
   "execution_count": 24,
   "id": "9e112aac",
   "metadata": {},
   "outputs": [],
   "source": [
    "test_rounding = round(this_is_a_longer_float, 3)"
   ]
  },
  {
   "cell_type": "code",
   "execution_count": 25,
   "id": "f14d6524",
   "metadata": {},
   "outputs": [
    {
     "data": {
      "text/plain": [
       "45.123"
      ]
     },
     "execution_count": 25,
     "metadata": {},
     "output_type": "execute_result"
    }
   ],
   "source": [
    "test_rounding"
   ]
  },
  {
   "cell_type": "code",
   "execution_count": 26,
   "id": "8a4025d8",
   "metadata": {},
   "outputs": [],
   "source": [
    "list_1 = [\"this is a list\", \"that contains\", \"both strings and numbers:\", 12, 23, 34]"
   ]
  },
  {
   "cell_type": "code",
   "execution_count": 27,
   "id": "b35a805a",
   "metadata": {},
   "outputs": [
    {
     "name": "stdout",
     "output_type": "stream",
     "text": [
      "['this is a list', 'that contains', 'both strings and numbers:', 12, 23, 34]\n"
     ]
    }
   ],
   "source": [
    "print(list_1)"
   ]
  },
  {
   "cell_type": "code",
   "execution_count": 28,
   "id": "8d59f0f2",
   "metadata": {},
   "outputs": [
    {
     "data": {
      "text/plain": [
       "list"
      ]
     },
     "execution_count": 28,
     "metadata": {},
     "output_type": "execute_result"
    }
   ],
   "source": [
    "type(list_1)"
   ]
  },
  {
   "cell_type": "code",
   "execution_count": 29,
   "id": "7728557f",
   "metadata": {},
   "outputs": [],
   "source": [
    "list_2 = [variable, variable_2, variable_3]"
   ]
  },
  {
   "cell_type": "code",
   "execution_count": 30,
   "id": "faf092c9",
   "metadata": {},
   "outputs": [
    {
     "data": {
      "text/plain": [
       "[24, 'This is text!', 20.5]"
      ]
     },
     "execution_count": 30,
     "metadata": {},
     "output_type": "execute_result"
    }
   ],
   "source": [
    "list_2"
   ]
  },
  {
   "cell_type": "code",
   "execution_count": 31,
   "id": "af50525e",
   "metadata": {},
   "outputs": [
    {
     "data": {
      "text/plain": [
       "list"
      ]
     },
     "execution_count": 31,
     "metadata": {},
     "output_type": "execute_result"
    }
   ],
   "source": [
    "type(list_2)"
   ]
  },
  {
   "cell_type": "code",
   "execution_count": 32,
   "id": "915e12ba",
   "metadata": {},
   "outputs": [
    {
     "name": "stdout",
     "output_type": "stream",
     "text": [
      "('this is a list', 'that contains', 'both strings and numbers:', 12, 23, 34)\n"
     ]
    },
    {
     "data": {
      "text/plain": [
       "tuple"
      ]
     },
     "execution_count": 32,
     "metadata": {},
     "output_type": "execute_result"
    }
   ],
   "source": [
    "tuple_1 = (\"this is a list\", \"that contains\", \"both strings and numbers:\", 12, 23, 34)\n",
    "print(tuple_1)\n",
    "type(tuple_1)"
   ]
  },
  {
   "cell_type": "code",
   "execution_count": 33,
   "id": "e57302b2",
   "metadata": {},
   "outputs": [
    {
     "data": {
      "text/plain": [
       "'this is a list'"
      ]
     },
     "execution_count": 33,
     "metadata": {},
     "output_type": "execute_result"
    }
   ],
   "source": [
    "list_1[0]"
   ]
  },
  {
   "cell_type": "code",
   "execution_count": 34,
   "id": "9f21e7dc",
   "metadata": {},
   "outputs": [
    {
     "data": {
      "text/plain": [
       "'both strings and numbers:'"
      ]
     },
     "execution_count": 34,
     "metadata": {},
     "output_type": "execute_result"
    }
   ],
   "source": [
    "list_1[2]"
   ]
  },
  {
   "cell_type": "code",
   "execution_count": 35,
   "id": "bb830f0b",
   "metadata": {},
   "outputs": [
    {
     "ename": "IndexError",
     "evalue": "list index out of range",
     "output_type": "error",
     "traceback": [
      "\u001b[1;31m---------------------------------------------------------------------------\u001b[0m",
      "\u001b[1;31mIndexError\u001b[0m                                Traceback (most recent call last)",
      "\u001b[1;32m~\\AppData\\Local\\Temp\\ipykernel_13140\\899569084.py\u001b[0m in \u001b[0;36m<cell line: 1>\u001b[1;34m()\u001b[0m\n\u001b[1;32m----> 1\u001b[1;33m \u001b[0mlist_1\u001b[0m\u001b[1;33m[\u001b[0m\u001b[1;36m6\u001b[0m\u001b[1;33m]\u001b[0m\u001b[1;33m\u001b[0m\u001b[1;33m\u001b[0m\u001b[0m\n\u001b[0m",
      "\u001b[1;31mIndexError\u001b[0m: list index out of range"
     ]
    }
   ],
   "source": [
    "list_1[6]"
   ]
  },
  {
   "cell_type": "code",
   "execution_count": 36,
   "id": "c4802c56",
   "metadata": {},
   "outputs": [
    {
     "data": {
      "text/plain": [
       "34"
      ]
     },
     "execution_count": 36,
     "metadata": {},
     "output_type": "execute_result"
    }
   ],
   "source": [
    "list_1[5]"
   ]
  },
  {
   "cell_type": "code",
   "execution_count": 37,
   "id": "3909cef2",
   "metadata": {},
   "outputs": [
    {
     "data": {
      "text/plain": [
       "['this is a list', 'that contains']"
      ]
     },
     "execution_count": 37,
     "metadata": {},
     "output_type": "execute_result"
    }
   ],
   "source": [
    "list_1[0:2]"
   ]
  },
  {
   "cell_type": "code",
   "execution_count": 38,
   "id": "e4a4b2cf",
   "metadata": {},
   "outputs": [
    {
     "data": {
      "text/plain": [
       "['this is a list', 'that contains', 'both strings and numbers:', 12, 23, 34]"
      ]
     },
     "execution_count": 38,
     "metadata": {},
     "output_type": "execute_result"
    }
   ],
   "source": [
    "list_1[0:]"
   ]
  },
  {
   "cell_type": "code",
   "execution_count": 39,
   "id": "5ecfba87",
   "metadata": {},
   "outputs": [],
   "source": [
    "# tuples are UNchangeable, and lists are changeable! that is the difference"
   ]
  },
  {
   "cell_type": "code",
   "execution_count": 40,
   "id": "90b91b69",
   "metadata": {},
   "outputs": [],
   "source": [
    "#so i cannot change an immutiable data type with tuples"
   ]
  },
  {
   "cell_type": "code",
   "execution_count": 41,
   "id": "760da3c3",
   "metadata": {},
   "outputs": [],
   "source": [
    "list_1[3] = 2345"
   ]
  },
  {
   "cell_type": "code",
   "execution_count": 42,
   "id": "fc470af7",
   "metadata": {},
   "outputs": [
    {
     "name": "stdout",
     "output_type": "stream",
     "text": [
      "['this is a list', 'that contains', 'both strings and numbers:', 2345, 23, 34]\n"
     ]
    }
   ],
   "source": [
    "print(list_1)"
   ]
  },
  {
   "cell_type": "code",
   "execution_count": 43,
   "id": "248007c0",
   "metadata": {},
   "outputs": [],
   "source": [
    "# see? the fourth element in the list could be changed."
   ]
  },
  {
   "cell_type": "code",
   "execution_count": 44,
   "id": "0886a2e1",
   "metadata": {},
   "outputs": [
    {
     "ename": "SyntaxError",
     "evalue": "cannot assign to function call (3548211596.py, line 1)",
     "output_type": "error",
     "traceback": [
      "\u001b[1;36m  File \u001b[1;32m\"C:\\Users\\tkalecis\\AppData\\Local\\Temp\\ipykernel_13140\\3548211596.py\"\u001b[1;36m, line \u001b[1;32m1\u001b[0m\n\u001b[1;33m    tuple_1(3) = 222222\u001b[0m\n\u001b[1;37m    ^\u001b[0m\n\u001b[1;31mSyntaxError\u001b[0m\u001b[1;31m:\u001b[0m cannot assign to function call\n"
     ]
    }
   ],
   "source": [
    "tuple_1(3) = 222222"
   ]
  },
  {
   "cell_type": "code",
   "execution_count": 45,
   "id": "8a5975eb",
   "metadata": {},
   "outputs": [],
   "source": [
    "# see? the element in the TUPLE could NOT be changed-"
   ]
  },
  {
   "cell_type": "code",
   "execution_count": 46,
   "id": "53c3c3a4",
   "metadata": {},
   "outputs": [
    {
     "data": {
      "text/plain": [
       "6"
      ]
     },
     "execution_count": 46,
     "metadata": {},
     "output_type": "execute_result"
    }
   ],
   "source": [
    "len(list_1)"
   ]
  },
  {
   "cell_type": "code",
   "execution_count": 47,
   "id": "a1372045",
   "metadata": {},
   "outputs": [],
   "source": [
    "list_1.append(\"appended string\")"
   ]
  },
  {
   "cell_type": "code",
   "execution_count": 48,
   "id": "8fa01868",
   "metadata": {},
   "outputs": [
    {
     "name": "stdout",
     "output_type": "stream",
     "text": [
      "['this is a list', 'that contains', 'both strings and numbers:', 2345, 23, 34, 'appended string']\n"
     ]
    },
    {
     "data": {
      "text/plain": [
       "7"
      ]
     },
     "execution_count": 48,
     "metadata": {},
     "output_type": "execute_result"
    }
   ],
   "source": [
    "print(list_1)\n",
    "len(list_1)"
   ]
  },
  {
   "cell_type": "code",
   "execution_count": 49,
   "id": "a920acad",
   "metadata": {},
   "outputs": [],
   "source": [
    "# what I did here is use the APPENDED FUNCTION (.append) to add another element to the list"
   ]
  },
  {
   "cell_type": "raw",
   "id": "11c82750",
   "metadata": {},
   "source": [
    "this_dict = {}"
   ]
  },
  {
   "cell_type": "code",
   "execution_count": 50,
   "id": "f5c1a078",
   "metadata": {},
   "outputs": [
    {
     "ename": "NameError",
     "evalue": "name 'this_dict' is not defined",
     "output_type": "error",
     "traceback": [
      "\u001b[1;31m---------------------------------------------------------------------------\u001b[0m",
      "\u001b[1;31mNameError\u001b[0m                                 Traceback (most recent call last)",
      "\u001b[1;32m~\\AppData\\Local\\Temp\\ipykernel_13140\\420093357.py\u001b[0m in \u001b[0;36m<cell line: 1>\u001b[1;34m()\u001b[0m\n\u001b[1;32m----> 1\u001b[1;33m \u001b[0mtype\u001b[0m\u001b[1;33m(\u001b[0m\u001b[0mthis_dict\u001b[0m\u001b[1;33m)\u001b[0m\u001b[1;33m\u001b[0m\u001b[1;33m\u001b[0m\u001b[0m\n\u001b[0m",
      "\u001b[1;31mNameError\u001b[0m: name 'this_dict' is not defined"
     ]
    }
   ],
   "source": [
    "type(this_dict)"
   ]
  },
  {
   "cell_type": "code",
   "execution_count": 51,
   "id": "023743b9",
   "metadata": {},
   "outputs": [],
   "source": [
    "this_dict = {\n",
    "    \"name\": \"Banana\",\n",
    "    \"style\": \"Fruit\",\n",
    "    \"version\": 1.0\n",
    "}"
   ]
  },
  {
   "cell_type": "code",
   "execution_count": 52,
   "id": "23e37cc5",
   "metadata": {},
   "outputs": [
    {
     "data": {
      "text/plain": [
       "'Banana'"
      ]
     },
     "execution_count": 52,
     "metadata": {},
     "output_type": "execute_result"
    }
   ],
   "source": [
    "this_dict[\"name\"]"
   ]
  },
  {
   "cell_type": "code",
   "execution_count": 53,
   "id": "7ae1e73b",
   "metadata": {},
   "outputs": [
    {
     "ename": "SyntaxError",
     "evalue": "invalid syntax (1635807154.py, line 4)",
     "output_type": "error",
     "traceback": [
      "\u001b[1;36m  File \u001b[1;32m\"C:\\Users\\tkalecis\\AppData\\Local\\Temp\\ipykernel_13140\\1635807154.py\"\u001b[1;36m, line \u001b[1;32m4\u001b[0m\n\u001b[1;33m    elif x == \"another thing\"\u001b[0m\n\u001b[1;37m                             ^\u001b[0m\n\u001b[1;31mSyntaxError\u001b[0m\u001b[1;31m:\u001b[0m invalid syntax\n"
     ]
    }
   ],
   "source": [
    "x = \"one thing\"\n",
    "if x == True:\n",
    "    print(\"true\")\n",
    "elif x == \"another thing\"\n",
    "    print(\"uh oh!\")\n",
    "else: \n",
    "    print(\"None\")"
   ]
  },
  {
   "cell_type": "code",
   "execution_count": 54,
   "id": "30aaf0fd",
   "metadata": {},
   "outputs": [
    {
     "ename": "NameError",
     "evalue": "name 'for_test' is not defined",
     "output_type": "error",
     "traceback": [
      "\u001b[1;31m---------------------------------------------------------------------------\u001b[0m",
      "\u001b[1;31mNameError\u001b[0m                                 Traceback (most recent call last)",
      "\u001b[1;32m~\\AppData\\Local\\Temp\\ipykernel_13140\\466608478.py\u001b[0m in \u001b[0;36m<cell line: 2>\u001b[1;34m()\u001b[0m\n\u001b[0;32m      1\u001b[0m \u001b[0mfor_list\u001b[0m \u001b[1;33m=\u001b[0m \u001b[1;33m[\u001b[0m\u001b[1;34m\"apple\"\u001b[0m\u001b[1;33m,\u001b[0m \u001b[1;34m\"pear\"\u001b[0m\u001b[1;33m,\u001b[0m \u001b[1;34m\"kiwi\"\u001b[0m\u001b[1;33m]\u001b[0m\u001b[1;33m\u001b[0m\u001b[1;33m\u001b[0m\u001b[0m\n\u001b[0;32m      2\u001b[0m \u001b[1;32mfor\u001b[0m \u001b[0mtest_for\u001b[0m \u001b[1;32min\u001b[0m \u001b[0mfor_list\u001b[0m\u001b[1;33m:\u001b[0m\u001b[1;33m\u001b[0m\u001b[1;33m\u001b[0m\u001b[0m\n\u001b[1;32m----> 3\u001b[1;33m     \u001b[0mprint\u001b[0m\u001b[1;33m(\u001b[0m\u001b[0mfor_test\u001b[0m\u001b[1;33m)\u001b[0m\u001b[1;33m\u001b[0m\u001b[1;33m\u001b[0m\u001b[0m\n\u001b[0m",
      "\u001b[1;31mNameError\u001b[0m: name 'for_test' is not defined"
     ]
    }
   ],
   "source": [
    "for_list = [\"apple\", \"pear\", \"kiwi\"]\n",
    "for test_for in for_list:\n",
    "    print(for_test)"
   ]
  },
  {
   "cell_type": "code",
   "execution_count": 55,
   "id": "0f6fdd2e",
   "metadata": {},
   "outputs": [
    {
     "name": "stdout",
     "output_type": "stream",
     "text": [
      "apple\n",
      "pear\n",
      "kiwi\n"
     ]
    }
   ],
   "source": [
    "for_list = [\"apple\", \"pear\", \"kiwi\"]\n",
    "for i in for_list:\n",
    "    print(i)"
   ]
  },
  {
   "cell_type": "code",
   "execution_count": 58,
   "id": "4a33fa40",
   "metadata": {},
   "outputs": [
    {
     "name": "stdout",
     "output_type": "stream",
     "text": [
      "apple added a bit\n",
      "pear added a bit\n",
      "kiwi added a bit\n"
     ]
    }
   ],
   "source": [
    "for_list = [\"apple\", \"pear\", \"kiwi\"]\n",
    "for i in for_list:\n",
    "    print(str(i) + \" added a bit\")"
   ]
  },
  {
   "cell_type": "code",
   "execution_count": 59,
   "id": "c20a4770",
   "metadata": {},
   "outputs": [],
   "source": [
    "# sooo... I did a for-loop; now I am testing a while-loop (careful to not create infinity loop)"
   ]
  },
  {
   "cell_type": "code",
   "execution_count": 60,
   "id": "810c440b",
   "metadata": {},
   "outputs": [],
   "source": [
    "# while loop"
   ]
  },
  {
   "cell_type": "code",
   "execution_count": 64,
   "id": "065df471",
   "metadata": {},
   "outputs": [],
   "source": [
    "value_test = 10\n",
    "while value_test > 10:\n",
    "    print(value_test)\n",
    "    value_test = value_test + 1"
   ]
  },
  {
   "cell_type": "code",
   "execution_count": 65,
   "id": "a85c9dc1",
   "metadata": {},
   "outputs": [],
   "source": [
    "value_test = 0\n",
    "while value_test > 10:\n",
    "    print(value_test)\n",
    "    value_test = value_test + 1"
   ]
  },
  {
   "cell_type": "code",
   "execution_count": 66,
   "id": "a102941d",
   "metadata": {},
   "outputs": [],
   "source": [
    "value_test = 0"
   ]
  },
  {
   "cell_type": "code",
   "execution_count": 67,
   "id": "ee9984ef",
   "metadata": {},
   "outputs": [],
   "source": [
    "value_test = 0\n",
    "while value_test > 10:\n",
    "    print(value_test)\n",
    "    value_test = value_test + 1"
   ]
  },
  {
   "cell_type": "code",
   "execution_count": 68,
   "id": "8edf3dc6",
   "metadata": {},
   "outputs": [],
   "source": [
    "# it should have printed a list from 0,1, 2, 3, 4,... up to 10 but did not work yet? I did sth wrong"
   ]
  },
  {
   "cell_type": "code",
   "execution_count": null,
   "id": "0383edd5",
   "metadata": {},
   "outputs": [],
   "source": []
  }
 ],
 "metadata": {
  "kernelspec": {
   "display_name": "Python 3 (ipykernel)",
   "language": "python",
   "name": "python3"
  },
  "language_info": {
   "codemirror_mode": {
    "name": "ipython",
    "version": 3
   },
   "file_extension": ".py",
   "mimetype": "text/x-python",
   "name": "python",
   "nbconvert_exporter": "python",
   "pygments_lexer": "ipython3",
   "version": "3.9.18"
  }
 },
 "nbformat": 4,
 "nbformat_minor": 5
}
